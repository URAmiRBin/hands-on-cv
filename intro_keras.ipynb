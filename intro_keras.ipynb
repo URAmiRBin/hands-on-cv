{
  "nbformat": 4,
  "nbformat_minor": 0,
  "metadata": {
    "colab": {
      "name": "intro_keras.ipynb",
      "provenance": [],
      "collapsed_sections": [
        "9iWhD6luAaDZ",
        "jztcVjtsAlEo",
        "8vLo8VkpApZx",
        "413Z2158BYhM"
      ]
    },
    "kernelspec": {
      "name": "python3",
      "display_name": "Python 3"
    }
  },
  "cells": [
    {
      "cell_type": "code",
      "metadata": {
        "id": "WgkK8mWf_LAj"
      },
      "source": [
        "import sklearn\n",
        "\n",
        "%tensorflow_version 2.x\n",
        "\n",
        "# TensorFlow ≥2.0 is required\n",
        "import tensorflow as tf\n",
        "import tensorflow as tf\n",
        "from tensorflow import keras\n",
        "assert tf.__version__ >= \"2.0\"\n",
        "\n",
        "# Common imports\n",
        "import numpy as np\n",
        "import os\n",
        "\n",
        "# to make this notebook's output stable across runs\n",
        "np.random.seed(42)\n",
        "\n",
        "# To plot pretty figures\n",
        "%matplotlib inline\n",
        "import matplotlib as mpl\n",
        "import matplotlib.pyplot as plt"
      ],
      "execution_count": 1,
      "outputs": []
    },
    {
      "cell_type": "markdown",
      "metadata": {
        "id": "9iWhD6luAaDZ"
      },
      "source": [
        "##Sequential api"
      ]
    },
    {
      "cell_type": "markdown",
      "metadata": {
        "id": "dxtcG3KrAiAF"
      },
      "source": [
        "keras.models.Sequential()\n",
        "\n",
        "\n",
        "\n",
        "model.add()"
      ]
    },
    {
      "cell_type": "markdown",
      "metadata": {
        "id": "jztcVjtsAlEo"
      },
      "source": [
        "##Function api"
      ]
    },
    {
      "cell_type": "markdown",
      "metadata": {
        "id": "iEziaUTHAn9E"
      },
      "source": [
        "Connections are not linear, for example resnet has more complex connections.\r\n",
        "\r\n",
        "Not all neural network models are simply sequential. Some may have complex topologies. Some may have multiple inputs and/or multiple outputs. For example, a Wide & Deep neural network (see [paper](https://ai.google/research/pubs/pub45413)) connects all or part of the inputs directly to the output layer."
      ]
    },
    {
      "cell_type": "markdown",
      "metadata": {
        "id": "8vLo8VkpApZx"
      },
      "source": [
        "### Data"
      ]
    },
    {
      "cell_type": "code",
      "metadata": {
        "id": "19dEACTJAtDY",
        "colab": {
          "base_uri": "https://localhost:8080/"
        },
        "outputId": "b5a9756c-8559-482c-e2da-57dc0ce81296"
      },
      "source": [
        "from sklearn.datasets import fetch_california_housing\n",
        "from sklearn.model_selection import train_test_split\n",
        "from sklearn.preprocessing import StandardScaler\n",
        "\n",
        "housing = fetch_california_housing()\n",
        "\n",
        "X_train_full, X_test, y_train_full, y_test = train_test_split(housing.data, housing.target, random_state=42)\n",
        "X_train, X_valid, y_train, y_valid = train_test_split(X_train_full, y_train_full, random_state=42)\n",
        "\n",
        "scaler = StandardScaler()\n",
        "X_train = scaler.fit_transform(X_train)\n",
        "X_valid = scaler.transform(X_valid)\n",
        "X_test = scaler.transform(X_test)"
      ],
      "execution_count": 2,
      "outputs": [
        {
          "output_type": "stream",
          "text": [
            "Downloading Cal. housing from https://ndownloader.figshare.com/files/5976036 to /root/scikit_learn_data\n"
          ],
          "name": "stderr"
        }
      ]
    },
    {
      "cell_type": "markdown",
      "metadata": {
        "id": "PKenV-0kBgRa"
      },
      "source": [
        "## Wide and Deep"
      ]
    },
    {
      "cell_type": "markdown",
      "metadata": {
        "id": "fZrEYoSuAthY"
      },
      "source": [
        "![alt text](https://i.ibb.co/JQHYv8g/Screenshot-from-2020-06-09-10-00-31.png)"
      ]
    },
    {
      "cell_type": "markdown",
      "metadata": {
        "id": "pj6J-_tEA4i-"
      },
      "source": [
        "### create wide and deep model with function api"
      ]
    },
    {
      "cell_type": "code",
      "metadata": {
        "id": "DECGQLbpA2A4",
        "colab": {
          "base_uri": "https://localhost:8080/"
        },
        "outputId": "5213d8bc-44a1-434e-aea0-e833157dcbc6"
      },
      "source": [
        "X_train.shape[1:]"
      ],
      "execution_count": 3,
      "outputs": [
        {
          "output_type": "execute_result",
          "data": {
            "text/plain": [
              "(8,)"
            ]
          },
          "metadata": {
            "tags": []
          },
          "execution_count": 3
        }
      ]
    },
    {
      "cell_type": "code",
      "metadata": {
        "id": "IqO-J5lfAysy"
      },
      "source": [
        "from keras.layers import Input\n",
        "from keras.layers import Dense\n",
        "from keras.layers import concatenate\n",
        "\n",
        "# create model\n",
        "# Input shape 8 inputs\n",
        "input_ = keras.layers.Input(shape=X_train.shape[1:])\n",
        "hidden1 = keras.layers.Dense(30, activation='relu')(input_)\n",
        "hidden2 = keras.layers.Dense(30, activation='relu')(hidden1)\n",
        "\n",
        "concat = keras.layers.concatenate([input_,hidden2])\n",
        "\n",
        "output = keras.layers.Dense(1)(concat)\n",
        "\n",
        "model = keras.models.Model(inputs = [input_], outputs = [output])"
      ],
      "execution_count": 4,
      "outputs": []
    },
    {
      "cell_type": "code",
      "metadata": {
        "id": "TB4VVDrZA-o1",
        "colab": {
          "base_uri": "https://localhost:8080/"
        },
        "outputId": "fc34c2fa-49c5-4490-e0c1-e5c1660c1223"
      },
      "source": [
        "# model summary, plot\n",
        "model.summary()"
      ],
      "execution_count": 5,
      "outputs": [
        {
          "output_type": "stream",
          "text": [
            "Model: \"model\"\n",
            "__________________________________________________________________________________________________\n",
            "Layer (type)                    Output Shape         Param #     Connected to                     \n",
            "==================================================================================================\n",
            "input_1 (InputLayer)            [(None, 8)]          0                                            \n",
            "__________________________________________________________________________________________________\n",
            "dense (Dense)                   (None, 30)           270         input_1[0][0]                    \n",
            "__________________________________________________________________________________________________\n",
            "dense_1 (Dense)                 (None, 30)           930         dense[0][0]                      \n",
            "__________________________________________________________________________________________________\n",
            "concatenate (Concatenate)       (None, 38)           0           input_1[0][0]                    \n",
            "                                                                 dense_1[0][0]                    \n",
            "__________________________________________________________________________________________________\n",
            "dense_2 (Dense)                 (None, 1)            39          concatenate[0][0]                \n",
            "==================================================================================================\n",
            "Total params: 1,239\n",
            "Trainable params: 1,239\n",
            "Non-trainable params: 0\n",
            "__________________________________________________________________________________________________\n"
          ],
          "name": "stdout"
        }
      ]
    },
    {
      "cell_type": "code",
      "metadata": {
        "id": "lovgxOFrDvHi",
        "colab": {
          "base_uri": "https://localhost:8080/",
          "height": 466
        },
        "outputId": "69214d23-15c9-4725-deba-6200cd3f339f"
      },
      "source": [
        "keras.utils.plot_model(model)"
      ],
      "execution_count": 7,
      "outputs": [
        {
          "output_type": "execute_result",
          "data": {
            "image/png": "[encoded data removed]",
            "text/plain": [
              "<IPython.core.display.Image object>"
            ]
          },
          "metadata": {
            "tags": []
          },
          "execution_count": 7
        }
      ]
    },
    {
      "cell_type": "markdown",
      "metadata": {
        "id": "413Z2158BYhM"
      },
      "source": [
        "### compile and fit model"
      ]
    },
    {
      "cell_type": "code",
      "metadata": {
        "id": "SE89qQAkBGKs",
        "colab": {
          "base_uri": "https://localhost:8080/"
        },
        "outputId": "cfc4bf4c-11af-4a4e-c55a-b9a5b4af2a0f"
      },
      "source": [
        "model.compile(loss=\"mean_squared_error\", optimizer=keras.optimizers.SGD(lr=1e-3))\n",
        "history = model.fit(X_train, y_train, epochs=10,\n",
        "                    validation_data=(X_valid, y_valid))\n",
        "mse_test = model.evaluate(X_test, y_test)"
      ],
      "execution_count": 8,
      "outputs": [
        {
          "output_type": "stream",
          "text": [
            "Epoch 1/10\n",
            "363/363 [==============================] - 1s 2ms/step - loss: 3.0548 - val_loss: 2.5067\n",
            "Epoch 2/10\n",
            "363/363 [==============================] - 0s 1ms/step - loss: 0.6783 - val_loss: 1.7788\n",
            "Epoch 3/10\n",
            "363/363 [==============================] - 0s 1ms/step - loss: 0.6178 - val_loss: 0.5661\n",
            "Epoch 4/10\n",
            "363/363 [==============================] - 0s 1ms/step - loss: 0.5833 - val_loss: 0.6407\n",
            "Epoch 5/10\n",
            "363/363 [==============================] - 0s 1ms/step - loss: 0.5515 - val_loss: 0.5005\n",
            "Epoch 6/10\n",
            "363/363 [==============================] - 0s 1ms/step - loss: 0.5360 - val_loss: 0.4873\n",
            "Epoch 7/10\n",
            "363/363 [==============================] - 0s 1ms/step - loss: 0.4972 - val_loss: 0.4730\n",
            "Epoch 8/10\n",
            "363/363 [==============================] - 0s 1ms/step - loss: 0.4903 - val_loss: 0.4732\n",
            "Epoch 9/10\n",
            "363/363 [==============================] - 0s 1ms/step - loss: 0.4743 - val_loss: 0.4824\n",
            "Epoch 10/10\n",
            "363/363 [==============================] - 0s 1ms/step - loss: 0.4590 - val_loss: 0.4289\n",
            "162/162 [==============================] - 0s 820us/step - loss: 0.4536\n"
          ],
          "name": "stdout"
        }
      ]
    },
    {
      "cell_type": "markdown",
      "metadata": {
        "id": "vyn_gbTdBNnF"
      },
      "source": [
        "## A more complex model "
      ]
    },
    {
      "cell_type": "markdown",
      "metadata": {
        "id": "UYtQxHiXBSKf"
      },
      "source": [
        "![alt text](https://i.ibb.co/gRs164Q/Screenshot-from-2020-06-09-10-17-32.png)"
      ]
    },
    {
      "cell_type": "markdown",
      "metadata": {
        "id": "E1UifpVgDm4e"
      },
      "source": [
        "### create model"
      ]
    },
    {
      "cell_type": "code",
      "metadata": {
        "id": "uE2Pi9H4CP-W"
      },
      "source": [
        "# model\n",
        "# inputs\n",
        "input1 = keras.layers.Input(shape = [5], name = 'wide')\n",
        "input2 = keras.layers.Input(shape = [6], name = 'deep')\n",
        "\n",
        "# hidden\n",
        "hidden1 = keras.layers.Dense(30, activation='relu')(input2)\n",
        "hidden2 = keras.layers.Dense(30, activation='relu')(hidden1)\n",
        "concat = keras.layers.concatenate([input1, hidden2])\n",
        "\n",
        "#outputs\n",
        "output = keras.layers.Dense(1)(concat)\n",
        "aux_output = keras.layers.Dense(1)(hidden2)\n",
        "\n",
        "model1 = keras.models.Model(inputs = [input1, input2], outputs = [output, aux_output])"
      ],
      "execution_count": 14,
      "outputs": []
    },
    {
      "cell_type": "code",
      "metadata": {
        "id": "FRxLbyNmCuWm",
        "colab": {
          "base_uri": "https://localhost:8080/",
          "height": 466
        },
        "outputId": "69fd1132-22b8-437b-8c3f-8385faf5ca20"
      },
      "source": [
        "# plot_model\n",
        "keras.utils.plot_model(model1)"
      ],
      "execution_count": 15,
      "outputs": [
        {
          "output_type": "execute_result",
          "data": {
            "image/png": "[encoded data removed]",
            "text/plain": [
              "<IPython.core.display.Image object>"
            ]
          },
          "metadata": {
            "tags": []
          },
          "execution_count": 15
        }
      ]
    },
    {
      "cell_type": "markdown",
      "metadata": {
        "id": "pNqK9aumD9cZ"
      },
      "source": [
        "## Subclass API\r\n",
        "\r\n",
        "Another model in keras is Subclass API.\r\n",
        "Sequential: no connectivity access\r\n",
        "\r\n",
        "Function: Can access connections\r\n",
        "\r\n",
        "Subclass: For researches and tests and use conditions and loops"
      ]
    },
    {
      "cell_type": "code",
      "metadata": {
        "id": "gYZwh5TLD_Mq"
      },
      "source": [
        "# create model\n",
        "class WideAndDeepModel(keras.models.Model):\n",
        "  # Define layers but not inputs\n",
        "  def __init__(self, units=30, activation='relu', **kwargs):\n",
        "    super().__init__(**kwargs)\n",
        "    self.hidden1 = keras.layers.Dense(units, activation='relu')\n",
        "    self.hidden2 = keras.layers.Dense(units, activation='relu')\n",
        "\n",
        "    self.main_output = keras.layers.Dense(1)\n",
        "    self.aux_output = keras.layers.Dense(1)\n",
        "\n",
        "  # Model.fit\n",
        "  # Define connections\n",
        "  def call(self, inputs):\n",
        "    input1, input2 = inputs\n",
        "    hidden1 = self.hidden1(input2)\n",
        "    hidden2 = self.hidden2(hidden1)\n",
        "    concat = keras.layers.concatenate([input1, hidden2])\n",
        "    main_output = self.main_output(concat)\n",
        "    aux_output = self.aux_output(hidden2)\n",
        "\n",
        "    return main_output, aux_output\n",
        "\n",
        "\n",
        "\n",
        "model = WideAndDeepModel()\n"
      ],
      "execution_count": 18,
      "outputs": []
    },
    {
      "cell_type": "markdown",
      "metadata": {
        "id": "lWPhV_FhGzht"
      },
      "source": [
        "### prepare data"
      ]
    },
    {
      "cell_type": "code",
      "metadata": {
        "id": "ZlX9m8TMGoQf"
      },
      "source": [
        "X_train_A, X_train_B = X_train[:, :5], X_train[:, 2:]\n",
        "X_valid_A, X_valid_B = X_valid[:, :5], X_valid[:, 2:]\n",
        "X_test_A, X_test_B = X_test[:, :5], X_test[:, 2:]\n",
        "X_new_A, X_new_B = X_test_A[:3], X_test_B[:3]\n"
      ],
      "execution_count": 19,
      "outputs": []
    },
    {
      "cell_type": "markdown",
      "metadata": {
        "id": "VHKcyx_TG1-q"
      },
      "source": [
        "### compile and load data"
      ]
    },
    {
      "cell_type": "code",
      "metadata": {
        "id": "LPeTeejLGp9k",
        "colab": {
          "base_uri": "https://localhost:8080/"
        },
        "outputId": "de071106-74a0-4b68-8e54-bfd1b2f9da79"
      },
      "source": [
        "model.compile(loss=\"mse\", loss_weights=[0.9, 0.1], optimizer=keras.optimizers.SGD(lr=1e-3))\n",
        "history = model.fit((X_train_A, X_train_B), (y_train, y_train), epochs=10,\n",
        "                    validation_data=((X_valid_A, X_valid_B), (y_valid, y_valid)))\n"
      ],
      "execution_count": 20,
      "outputs": [
        {
          "output_type": "stream",
          "text": [
            "Epoch 1/10\n",
            "363/363 [==============================] - 1s 2ms/step - loss: 4.1975 - output_1_loss: 4.0921 - output_2_loss: 5.1457 - val_loss: 2.5348 - val_output_1_loss: 0.9570 - val_output_2_loss: 16.7353\n",
            "Epoch 2/10\n",
            "363/363 [==============================] - 1s 2ms/step - loss: 1.1691 - output_1_loss: 0.8810 - output_2_loss: 3.7620 - val_loss: 2.6386 - val_output_1_loss: 0.7731 - val_output_2_loss: 19.4285\n",
            "Epoch 3/10\n",
            "363/363 [==============================] - 1s 2ms/step - loss: 0.8593 - output_1_loss: 0.6666 - output_2_loss: 2.5932 - val_loss: 2.5123 - val_output_1_loss: 0.6065 - val_output_2_loss: 19.6646\n",
            "Epoch 4/10\n",
            "363/363 [==============================] - 1s 1ms/step - loss: 0.7755 - output_1_loss: 0.6161 - output_2_loss: 2.2095 - val_loss: 2.4134 - val_output_1_loss: 0.7797 - val_output_2_loss: 17.1163\n",
            "Epoch 5/10\n",
            "363/363 [==============================] - 1s 2ms/step - loss: 0.7002 - output_1_loss: 0.5739 - output_2_loss: 1.8375 - val_loss: 2.0326 - val_output_1_loss: 0.6678 - val_output_2_loss: 14.3162\n",
            "Epoch 6/10\n",
            "363/363 [==============================] - 1s 2ms/step - loss: 0.6300 - output_1_loss: 0.5199 - output_2_loss: 1.6207 - val_loss: 1.6414 - val_output_1_loss: 0.5317 - val_output_2_loss: 11.6289\n",
            "Epoch 7/10\n",
            "363/363 [==============================] - 1s 2ms/step - loss: 0.6040 - output_1_loss: 0.5030 - output_2_loss: 1.5134 - val_loss: 1.3845 - val_output_1_loss: 0.5376 - val_output_2_loss: 9.0074\n",
            "Epoch 8/10\n",
            "363/363 [==============================] - 1s 2ms/step - loss: 0.6015 - output_1_loss: 0.5130 - output_2_loss: 1.3974 - val_loss: 1.1368 - val_output_1_loss: 0.4732 - val_output_2_loss: 7.1098\n",
            "Epoch 9/10\n",
            "363/363 [==============================] - 1s 2ms/step - loss: 0.5691 - output_1_loss: 0.4793 - output_2_loss: 1.3775 - val_loss: 0.9827 - val_output_1_loss: 0.4930 - val_output_2_loss: 5.3906\n",
            "Epoch 10/10\n",
            "363/363 [==============================] - 1s 2ms/step - loss: 0.5768 - output_1_loss: 0.4925 - output_2_loss: 1.3356 - val_loss: 0.8607 - val_output_1_loss: 0.4986 - val_output_2_loss: 4.1197\n"
          ],
          "name": "stdout"
        }
      ]
    },
    {
      "cell_type": "code",
      "metadata": {
        "id": "kChlnGd-GrnH",
        "colab": {
          "base_uri": "https://localhost:8080/"
        },
        "outputId": "089d3da4-8ea1-470d-8da7-5f68202f594d"
      },
      "source": [
        "total_loss, main_loss, aux_loss = model.evaluate((X_test_A, X_test_B), (y_test, y_test))\n",
        "print(total_loss)\n",
        "print(main_loss)\n",
        "print(aux_loss)\n"
      ],
      "execution_count": 21,
      "outputs": [
        {
          "output_type": "stream",
          "text": [
            "162/162 [==============================] - 0s 938us/step - loss: 0.5501 - output_1_loss: 0.4733 - output_2_loss: 1.2410\n",
            "0.5501102209091187\n",
            "0.4733429551124573\n",
            "1.2410166263580322\n"
          ],
          "name": "stdout"
        }
      ]
    },
    {
      "cell_type": "markdown",
      "metadata": {
        "id": "stzI1bqoGu_2"
      },
      "source": [
        "## Custom Layer"
      ]
    },
    {
      "cell_type": "markdown",
      "metadata": {
        "id": "jMdwKTQyHJGe"
      },
      "source": [
        "![alt text](https://i.ibb.co/rcRpCWn/Screenshot-from-2020-06-09-11-41-31.png)"
      ]
    },
    {
      "cell_type": "code",
      "metadata": {
        "id": "R_0fXO3AHMj8"
      },
      "source": [
        "## create layer\n",
        "class ResidualBlock(keras.layers.Layer):\n",
        "  def __init__(self, n_layers, n_neurons, **kwargs):\n",
        "    super().__init__(**kwargs)\n",
        "    # Hidden is an array of custom size\n",
        "    self.hidden = [keras.layers.Dense(n_neurons, activation='relu') for _ in range(n_layers)]\n",
        "\n",
        "\n",
        "  def call(self, inputs):\n",
        "    z = inputs\n",
        "    for layers in self.hidden:\n",
        "      z = layer(z)\n",
        "    return inputs + z"
      ],
      "execution_count": 23,
      "outputs": []
    },
    {
      "cell_type": "markdown",
      "metadata": {
        "id": "53zpTIy7INXC"
      },
      "source": [
        "![alt text](https://i.ibb.co/y4dGdjj/Screenshot-from-2020-06-09-11-25-31.png)"
      ]
    },
    {
      "cell_type": "code",
      "metadata": {
        "id": "lW4ohx3bIWen"
      },
      "source": [
        "# create final model\n",
        "class ResidualRegressor(keras.models.Model):\n",
        "  def __init__(self, output_dim, **kwargs):\n",
        "    super().__init__(**kwargs)\n",
        "    self.hidden = keras.layers.Dense(30, activation='relu')\n",
        "    self.block1 = ResidualBlock(2, 30)\n",
        "    self.block2 = ResidualBlock(2, 30)\n",
        "    self.out = keras.layers.Dense(output_dim)\n",
        "\n",
        "  def call(self, inputs):\n",
        "    z = self.hidden(inputs)\n",
        "    for _ in range(3):\n",
        "      z = self.block1(z)\n",
        "\n",
        "    z = self.block2(z)\n",
        "\n",
        "    return self.out(z)\n"
      ],
      "execution_count": 28,
      "outputs": []
    },
    {
      "cell_type": "code",
      "metadata": {
        "id": "chhviZzLJQn8"
      },
      "source": [
        "model = ResidualRegressor(2)"
      ],
      "execution_count": 29,
      "outputs": []
    },
    {
      "cell_type": "code",
      "metadata": {
        "id": "oLkvNn75WKFS"
      },
      "source": [
        ""
      ],
      "execution_count": null,
      "outputs": []
    }
  ]
}